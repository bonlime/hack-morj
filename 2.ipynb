{
 "cells": [
  {
   "cell_type": "code",
   "execution_count": null,
   "id": "7f313304",
   "metadata": {},
   "outputs": [],
   "source": [
    "import torch\n",
    "import segmentation_models_pytorch as smp\n",
    "import yaml\n",
    "import json\n",
    "import numpy as np\n",
    "import cv2\n",
    "from pathlib import Path\n",
    "import matplotlib.pyplot as plt\n",
    "from PIL import Image"
   ]
  },
  {
   "cell_type": "raw",
   "id": "8aafaba2",
   "metadata": {},
   "source": [
    "ROOT_DIR = Path(\"lightning_logs/version_0\")\n",
    "\n",
    "\n",
    "chpt = torch.load(ROOT_DIR / \"checkpoints\" / \"epoch=99-step=5800.ckpt\", map_location=\"cpu\")\n",
    "# remove `model.` prefix for weights\n",
    "state_dict = {k[6:]:v for k,v in chpt[\"state_dict\"].items()}\n",
    "\n",
    "hparams = yaml.load((ROOT_DIR / \"hparams.yaml\").open())\n",
    "model = smp.create_model(**hparams[\"model_kwargs\"])\n",
    "model.load_state_dict(state_dict)"
   ]
  },
  {
   "cell_type": "raw",
   "id": "e74b3811",
   "metadata": {},
   "source": [
    "aa = np.ones((10, 10), bool) \n",
    "bb = np.ones((10, 10), bool)\n",
    "aa[:3, :3] = False\n",
    "bb[:3, :3] = False\n",
    "aa ^ bb"
   ]
  },
  {
   "cell_type": "code",
   "execution_count": null,
   "id": "a4e64eca",
   "metadata": {},
   "outputs": [],
   "source": [
    "import shapely\n",
    "from rasterio import features\n",
    "from shapely.ops import unary_union\n",
    "from prepare_data import read_polys, poly2mask"
   ]
  },
  {
   "cell_type": "raw",
   "id": "84174d96",
   "metadata": {},
   "source": [
    "size = Image.open(\"/home/zakirov/data/kopter_done_val_22_04/images/DJI_0001 (2).JPG\").size\n",
    "# poly = read_polys(Path(\"/home/zakirov/data/kopter_done_val_22_04/markup/DJI_0001 (2).json\"))\n",
    "# poly = read_polys(Path(\"/home/zakirov/data/kopter_done_val_22_04/markup/DJI_0004 (3).json\"))\n",
    "poly = read_polys(Path(\"/mnt/storage/datasets/walrus/raw/walrus200/markup/1.json\"))\n",
    "# poly = read_polys(Path(\"/home/zakirov/data/kopter_done_val_22_04/markup/DJI_0004 (3).json\"))\n",
    "# mm = poly2mask(poly, size)\n",
    "# mm = mm[2000:2300, 500:800]"
   ]
  },
  {
   "cell_type": "raw",
   "id": "688bec55",
   "metadata": {},
   "source": [
    "import pandas as pd"
   ]
  },
  {
   "cell_type": "raw",
   "id": "522873d5",
   "metadata": {},
   "source": [
    "pts = np.array([p.centroid.coords[0] for p in poly], dtype=int)\n",
    "df = pd.DataFrame(data=pts, columns=[\"x\", \"y\"])\n",
    "df.to_csv(\"1.csv\", index=False)"
   ]
  },
  {
   "cell_type": "raw",
   "id": "396e110e",
   "metadata": {},
   "source": [
    "plt.figure(figsize=(10, 10))\n",
    "mm = cv2.imread(\"/home/zakirov/data/some_val_data2/mask_patches/DJI_0001 (2)_101.png\")[..., ::-1]\n",
    "plt.imshow(mm[..., 0]);"
   ]
  },
  {
   "cell_type": "raw",
   "id": "ed9e442b",
   "metadata": {},
   "source": [
    "# img = cv2.imread(\"/home/zakirov/data/kopter_done_val_22_04/images/DJI_0001 (2).JPG\")[:, :, ::-1]\n",
    "img = cv2.imread(\"/mnt/storage/datasets/walrus/raw/walrus200/images/1.jpg\")[:, :, ::-1]\n",
    "\n",
    "# pred = cv2.imread(\"/home/zakirov/data/kopter_done_val_22_04/pred_14/DJI_0001 (2).png\")[:, :, ::-1]\n",
    "# pred = cv2.imread(\"/home/zakirov/data/kopter_done_val_22_04/pred_7/DJI_0001 (2).png\")[:, :, ::-1]\n",
    "# pred = cv2.imread(\"/home/zakirov/data/kopter_done_val_22_04/pred_10/DJI_0001 (2).png\")[:, :, ::-1]\n",
    "# pred = cv2.imread(\"/home/zakirov/data/kopter_done_val_22_04/pred_10/DJI_0004 (3).png\")[:, :, ::-1]\n",
    "# img = img[1500:, :3000]\n",
    "# pred = pred[1500:, :3000] / 255\n",
    "# pred = pred / 255"
   ]
  },
  {
   "cell_type": "raw",
   "id": "9dc3fa19",
   "metadata": {},
   "source": [
    "img = cv2.imread(\"/mnt/storage/datasets/walrus/raw/walrus200/images/1.jpg\")[:, :, ::-1]\n",
    "img = img.astype(np.float) / 255\n",
    "# x, y of \n",
    "# img = cv2.circle(img.astype(np.float) / 255, [480, 270], 3, [1, 0, 0], 2)\n",
    "for p in pts:\n",
    "    cv2.circle(img, p, 3, [1, 0, 0], 2)"
   ]
  },
  {
   "cell_type": "raw",
   "id": "71c46dde",
   "metadata": {},
   "source": [
    "plt.figure(figsize=(15, 10))\n",
    "plt.imshow(img);\n",
    "plt.axis('off');"
   ]
  },
  {
   "cell_type": "raw",
   "id": "46d94d61",
   "metadata": {},
   "source": [
    "plt.figure(figsize=(15, 10))\n",
    "plt.imshow(pred);\n",
    "plt.axis('off');"
   ]
  },
  {
   "cell_type": "raw",
   "id": "1ed39ab7",
   "metadata": {},
   "source": [
    "morj_no_border = np.clip(pred[..., 2] - pred[..., 1] - pred[..., 0], 0, 1)\n",
    "morj_thr = (morj_no_border > 0.5).astype(np.uint8)\n",
    "\n",
    "# plt.figure(figsize=(15, 10))\n",
    "# plt.imshow(morj_no_border);\n",
    "# plt.axis('off');"
   ]
  },
  {
   "cell_type": "raw",
   "id": "4d3a467c",
   "metadata": {},
   "source": [
    "plt.figure(figsize=(15, 10))\n",
    "plt.imshow(morj_thr);\n",
    "plt.axis('off');"
   ]
  },
  {
   "cell_type": "raw",
   "id": "3d0b654a",
   "metadata": {},
   "source": [
    "# shapes = list(features.shapes(morj_thr.astype(np.uint8)))\n",
    "# morj_mask = np.flipud(morj_thr)\n",
    "morj_mask = morj_thr\n",
    "\n",
    "pred_polys = [shapely.geometry.shape(sh) for sh, _ in features.shapes(morj_mask, mask=morj_mask)]\n",
    "MIN_AREA = 500 # min size based on training data\n",
    "pred_polys = [p for p in pred_polys if p.area > MIN_AREA]"
   ]
  },
  {
   "cell_type": "raw",
   "id": "ac385354",
   "metadata": {},
   "source": [
    "len(pred_polys)"
   ]
  },
  {
   "cell_type": "raw",
   "id": "42f29cdd",
   "metadata": {},
   "source": [
    "len(poly)"
   ]
  },
  {
   "cell_type": "raw",
   "id": "8fabd603",
   "metadata": {},
   "source": [
    "unary_union(poly)"
   ]
  },
  {
   "cell_type": "raw",
   "id": "c3fcf027",
   "metadata": {},
   "source": [
    "unary_union(pred_polys)"
   ]
  },
  {
   "cell_type": "code",
   "execution_count": null,
   "id": "5bb1dbe6",
   "metadata": {},
   "outputs": [],
   "source": [
    "imgs = sorted(Path(\"/mnt/storage/datasets/walrus/raw/walrusval/images/\").glob(\"*.jpg\"))\n",
    "preds = sorted(Path(\"/home/zakirov/data/full_predict/\").glob(\"*.png\"))\n",
    "trues = sorted(Path(\"/mnt/storage/datasets/walrus/raw/walrusval/markup/\").glob(\"*.json\"))\n",
    "trues.pop(trues.index(Path(\"/mnt/storage/datasets/walrus/raw/walrusval/markup/categories.json\")));"
   ]
  },
  {
   "cell_type": "raw",
   "id": "c521234b",
   "metadata": {},
   "source": [
    "plt.figure(figsize=(30, 15))\n",
    "_pr = cv2.imread(str(preds[5]))\n",
    "plt.imshow(_pr);"
   ]
  },
  {
   "cell_type": "raw",
   "id": "196d1779",
   "metadata": {},
   "source": [
    "_prrr = pred2poly(_pr[..., ::-1].astype(np.float) / 255)\n",
    "print(len(_prrr))\n",
    "unary_union(_prrr)"
   ]
  },
  {
   "cell_type": "code",
   "execution_count": null,
   "id": "cf3417b9",
   "metadata": {},
   "outputs": [],
   "source": [
    "plt.figure(figsize=(30, 15))\n",
    "_ii = cv2.imread(str(imgs[5]))[..., ::-1]\n",
    "# _ii = np.flipud(_ii)\n",
    "plt.imshow(_ii);"
   ]
  },
  {
   "cell_type": "code",
   "execution_count": null,
   "id": "d13d54ae",
   "metadata": {},
   "outputs": [],
   "source": [
    "MIN_AREA = 100 # min size based on training data\n",
    "def pred2poly(pred):\n",
    "    morj_no_border = np.clip(pred[..., 2] - pred[..., 1] - pred[..., 0], 0, 1)\n",
    "    morj_thr = (morj_no_border > 0.5).astype(np.uint8)\n",
    "    morj_mask = morj_thr\n",
    "    pred_polys = [shapely.geometry.shape(sh) for sh, _ in features.shapes(morj_mask, mask=morj_mask)]\n",
    "    pred_polys = [p for p in pred_polys if p.area > MIN_AREA]\n",
    "    return pred_polys"
   ]
  },
  {
   "cell_type": "code",
   "execution_count": null,
   "id": "5a9bfd86",
   "metadata": {},
   "outputs": [],
   "source": [
    "GLOBAL_TP, GLOBAL_FP, GLOBAL_FN = 0, 0, 0\n",
    "preds_cp = preds\n",
    "trues_cp = trues\n",
    "preds_cp = preds# [:6] # + preds[6:] \n",
    "trues_cp = trues#[:6] #+ trues[6:] \n",
    "GLOBAL_SCORE = 0\n",
    "\n",
    "for pr, tr in zip(preds_cp, trues_cp):\n",
    "    prr = cv2.imread(str(pr))[:, :, ::-1].astype(float) / 255\n",
    "    pred_polys = pred2poly(prr)\n",
    "    true_polys = read_polys(tr)\n",
    "    \n",
    "    found_true_idx = {}\n",
    "    TP, FP, FN = 0, 0, 0\n",
    "    found_pred = set()\n",
    "    found_true = set()\n",
    "    for true_idx, true_p in enumerate(true_polys):\n",
    "        found = False\n",
    "        found_second_time = 0\n",
    "        for pred_idx, pred_p in enumerate(pred_polys):\n",
    "            if not true_p.contains(pred_p.centroid):\n",
    "                continue\n",
    "            if found:\n",
    "                found_second_time += 1\n",
    "                continue\n",
    "            found = True\n",
    "            found_pred.add(pred_idx)\n",
    "        if found:\n",
    "            found_true.add(true_idx)\n",
    "    not_morj = len(pred_polys) - len(found_pred) - found_second_time\n",
    "    GLOBAL_SCORE += len(found_true) - found_second_time - not_morj * 2\n",
    "    FN = len(true_polys) - len(found_true)\n",
    "    FP = len(pred_polys) - len(found_pred)\n",
    "    TP = len(found_true)\n",
    "    recall = TP / (TP + FN)\n",
    "    prec = TP / (TP + FP)\n",
    "    f_score = 2 * prec * recall / (prec + recall)\n",
    "    print(f\"Prec: {prec:.2f}. Recall: {recall:.2f}. F1: {f_score:.2f}. N true: {len(true_polys)}\")\n",
    "    GLOBAL_TP += TP\n",
    "    GLOBAL_FP += FP\n",
    "    GLOBAL_FN += FN\n",
    "    \n",
    "recall = GLOBAL_TP / (GLOBAL_TP + GLOBAL_FN)\n",
    "prec = GLOBAL_TP / (GLOBAL_TP + GLOBAL_FP)\n",
    "f_score = 2 * prec * recall / (prec + recall)\n",
    "print(f\"Global Prec: {prec:.3f}. Global Recall: {recall:.3f}. Global F1: {f_score:.3f}\")\n",
    "print(f\"Global Score: {GLOBAL_SCORE / (GLOBAL_TP + GLOBAL_FN):.3f}\")"
   ]
  },
  {
   "cell_type": "code",
   "execution_count": 15,
   "id": "29065377",
   "metadata": {},
   "outputs": [
    {
     "ename": "SyntaxError",
     "evalue": "invalid syntax (820528053.py, line 1)",
     "output_type": "error",
     "traceback": [
      "\u001b[0;36m  Input \u001b[0;32mIn [15]\u001b[0;36m\u001b[0m\n\u001b[0;31m    Prec: 0.99. Recall: 0.97. F1: 0.98. N true: 224\u001b[0m\n\u001b[0m                      ^\u001b[0m\n\u001b[0;31mSyntaxError\u001b[0m\u001b[0;31m:\u001b[0m invalid syntax\n"
     ]
    }
   ],
   "source": [
    "Prec: 0.99. Recall: 0.97. F1: 0.98. N true: 224\n",
    "Prec: 0.96. Recall: 0.83. F1: 0.89. N true: 53\n",
    "Prec: 0.90. Recall: 0.95. F1: 0.93. N true: 176\n",
    "Prec: 0.88. Recall: 0.90. F1: 0.89. N true: 177\n",
    "Prec: 0.95. Recall: 0.98. F1: 0.96. N true: 42\n",
    "Prec: 0.96. Recall: 0.35. F1: 0.51. N true: 187\n",
    "Prec: 0.97. Recall: 0.96. F1: 0.97. N true: 76\n",
    "Prec: 1.00. Recall: 1.00. F1: 1.00. N true: 65\n",
    "Prec: 0.96. Recall: 0.73. F1: 0.83. N true: 30\n",
    "Prec: 0.96. Recall: 0.99. F1: 0.97. N true: 209\n",
    "Prec: 0.97. Recall: 0.99. F1: 0.98. N true: 112\n",
    "Prec: 0.94. Recall: 0.98. F1: 0.96. N true: 52\n",
    "Prec: 0.92. Recall: 1.00. F1: 0.96. N true: 48\n",
    "Prec: 0.97. Recall: 0.97. F1: 0.97. N true: 279\n",
    "Prec: 0.97. Recall: 0.98. F1: 0.98. N true: 286\n",
    "Prec: 0.94. Recall: 0.78. F1: 0.85. N true: 276\n",
    "Prec: 0.99. Recall: 0.99. F1: 0.99. N true: 204\n",
    "Prec: 0.90. Recall: 0.87. F1: 0.88. N true: 161\n",
    "Prec: 0.99. Recall: 0.99. F1: 0.99. N true: 323\n",
    "Prec: 1.00. Recall: 1.00. F1: 1.00. N true: 173\n",
    "Prec: 0.97. Recall: 0.99. F1: 0.98. N true: 148\n",
    "Prec: 0.93. Recall: 0.96. F1: 0.95. N true: 149\n",
    "Prec: 0.98. Recall: 0.96. F1: 0.97. N true: 226\n",
    "Prec: 0.98. Recall: 0.97. F1: 0.97. N true: 262\n",
    "Prec: 0.96. Recall: 1.00. F1: 0.98. N true: 216\n",
    "Prec: 0.99. Recall: 1.00. F1: 0.99. N true: 219\n",
    "Prec: 0.97. Recall: 1.00. F1: 0.98. N true: 216\n",
    "Prec: 0.97. Recall: 1.00. F1: 0.98. N true: 212\n",
    "Prec: 0.99. Recall: 0.99. F1: 0.99. N true: 211\n",
    "Prec: 0.86. Recall: 0.98. F1: 0.91. N true: 88\n",
    "Global Prec: 0.962. Global Recall: 0.939. Global F1: 0.950\n",
    "Global Score: 0.865  \n"
   ]
  },
  {
   "cell_type": "raw",
   "id": "7c10ab68",
   "metadata": {},
   "source": [
    "unary_union(pred_polys)"
   ]
  },
  {
   "cell_type": "raw",
   "id": "e27afdea",
   "metadata": {},
   "source": [
    "unary_union(true_polys)"
   ]
  },
  {
   "cell_type": "code",
   "execution_count": null,
   "id": "3817181c",
   "metadata": {},
   "outputs": [],
   "source": [
    "_morj_no_border = np.clip(prr[..., 2] - prr[..., 1] - prr[..., 0], 0, 1)\n",
    "# _morj_no_border = prr[..., 2] - prr[..., 1] - prr[..., 0]\n",
    "# morj_thr = (morj_no_border > 0.5).astype(np.uint8)\n",
    "# morj_mask = morj_thr"
   ]
  },
  {
   "cell_type": "raw",
   "id": "fdb18459",
   "metadata": {},
   "source": [
    "plt.figure(figsize=(30, 15))\n",
    "plt.imshow(_morj_no_border);"
   ]
  },
  {
   "cell_type": "code",
   "execution_count": null,
   "id": "6e66688b",
   "metadata": {},
   "outputs": [],
   "source": [
    "plt.figure(figsize=(30, 15))\n",
    "plt.imshow(prr[..., 0]);"
   ]
  },
  {
   "cell_type": "code",
   "execution_count": null,
   "id": "1bbcf2b1",
   "metadata": {},
   "outputs": [],
   "source": [
    "pred_polys"
   ]
  },
  {
   "cell_type": "code",
   "execution_count": null,
   "id": "0864aa3c",
   "metadata": {},
   "outputs": [],
   "source": []
  },
  {
   "cell_type": "raw",
   "id": "ac9c4e75",
   "metadata": {},
   "source": [
    "FN = len(poly) - len(found_true)\n",
    "FP = len(pred_polys) - len(found_pred)\n",
    "TP = len(found_true)\n",
    "recall = TP / (TP + FN)\n",
    "prec = TP / (TP + FP)\n",
    "f_score = 2 * prec * recall / (prec + recall)\n",
    "print(f\"Prec: {prec:.2f}. Recall: {recall:.2f}. F1: {f_score:.2f}\")\n",
    "# recall, prec, prec"
   ]
  },
  {
   "cell_type": "code",
   "execution_count": null,
   "id": "ff11a0e9",
   "metadata": {},
   "outputs": [],
   "source": []
  }
 ],
 "metadata": {
  "kernelspec": {
   "display_name": "Python 3 (ipykernel)",
   "language": "python",
   "name": "python3"
  },
  "language_info": {
   "codemirror_mode": {
    "name": "ipython",
    "version": 3
   },
   "file_extension": ".py",
   "mimetype": "text/x-python",
   "name": "python",
   "nbconvert_exporter": "python",
   "pygments_lexer": "ipython3",
   "version": "3.8.8"
  }
 },
 "nbformat": 4,
 "nbformat_minor": 5
}
