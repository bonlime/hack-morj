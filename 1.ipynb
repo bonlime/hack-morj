{
 "cells": [
  {
   "cell_type": "code",
   "execution_count": null,
   "id": "b4daf7c5",
   "metadata": {},
   "outputs": [],
   "source": [
    "%load_ext autoreload\n",
    "%autoreload 2\n",
    "\n",
    "import numpy as np\n",
    "import matplotlib.pyplot as plt\n",
    "from pathlib import Path\n",
    "import json\n",
    "from shapely.geometry import Polygon\n",
    "from shapely.ops import unary_union\n",
    "from PIL import Image\n",
    "import cv2\n",
    "from rasterio import features\n",
    "import rasterio\n",
    "from typing import List"
   ]
  },
  {
   "cell_type": "code",
   "execution_count": null,
   "id": "b2a3880b",
   "metadata": {},
   "outputs": [],
   "source": [
    "# ROOT_DATA_DIR = Path(\"/home/zakirov/data/kopter_done_22_04/\")\n",
    "ROOT_DATA_DIR = Path(\"/mnt/storage/datasets/walrus/raw/walrus200/\")"
   ]
  },
  {
   "cell_type": "raw",
   "id": "9848e208",
   "metadata": {},
   "source": [
    "!ls $ROOT_DATA_DIR/images"
   ]
  },
  {
   "cell_type": "raw",
   "id": "117b2ed4",
   "metadata": {},
   "source": [
    "!ls $ROOT_DATA_DIR/\"images\""
   ]
  },
  {
   "cell_type": "code",
   "execution_count": null,
   "id": "85381eb5",
   "metadata": {},
   "outputs": [],
   "source": [
    "images = sorted((ROOT_DATA_DIR / \"images\").glob(\"*.jpg\"))\n",
    "images"
   ]
  },
  {
   "cell_type": "code",
   "execution_count": null,
   "id": "be74f4bf",
   "metadata": {},
   "outputs": [],
   "source": [
    "annotations = sorted((ROOT_DATA_DIR / \"markup\").glob(\"*.json\"))\n",
    "# remove categories json, it's not used\n",
    "annotations.pop(annotations.index(ROOT_DATA_DIR / \"markup\"/ \"categories.json\"))\n",
    "annotations"
   ]
  },
  {
   "cell_type": "code",
   "execution_count": null,
   "id": "e7b1fe46",
   "metadata": {},
   "outputs": [],
   "source": [
    "from prepare_data import read_polys, poly2mask"
   ]
  },
  {
   "cell_type": "code",
   "execution_count": null,
   "id": "ef536483",
   "metadata": {},
   "outputs": [],
   "source": [
    "polygons = read_polys(annotations[5])\n",
    "all_poly = []\n",
    "for idx, ann in enumerate(annotations):\n",
    "    all_poly.extend(read_polys(ann))"
   ]
  },
  {
   "cell_type": "code",
   "execution_count": null,
   "id": "21854502",
   "metadata": {},
   "outputs": [],
   "source": [
    "from shapely.geometry import box"
   ]
  },
  {
   "cell_type": "raw",
   "id": "3ceafd2a",
   "metadata": {},
   "source": [
    "sorted([p.area for p in all_poly])"
   ]
  },
  {
   "cell_type": "code",
   "execution_count": null,
   "id": "befd30e4",
   "metadata": {},
   "outputs": [],
   "source": [
    "fig = plt.hist([p.area for p in all_poly], bins=40);\n",
    "plt.title(\"All morj area distribution\")\n",
    "plt.xlabel(\"Area in pixels^2\");"
   ]
  },
  {
   "cell_type": "code",
   "execution_count": null,
   "id": "2ba333d0",
   "metadata": {},
   "outputs": [],
   "source": [
    "plt.hist([box(*p.bounds).area for p in all_poly if not p.is_empty], bins=60);\n",
    "plt.title(\"All morj area distribution (of bbox)\")\n",
    "plt.xlabel(\"Area in pixels^2\");\n",
    "plt.xlim(0, 30000)"
   ]
  },
  {
   "cell_type": "code",
   "execution_count": null,
   "id": "03ec854d",
   "metadata": {},
   "outputs": [],
   "source": [
    "img = Image.open(images[5])\n",
    "img"
   ]
  },
  {
   "cell_type": "code",
   "execution_count": null,
   "id": "0bfc9d8d",
   "metadata": {},
   "outputs": [],
   "source": [
    "from tiles import TileInference"
   ]
  },
  {
   "cell_type": "code",
   "execution_count": null,
   "id": "0d4a3d1a",
   "metadata": {},
   "outputs": [],
   "source": [
    "splits = TileInference().iter_split(np.array(img), channels_last=True)"
   ]
  },
  {
   "cell_type": "code",
   "execution_count": null,
   "id": "e53cff24",
   "metadata": {},
   "outputs": [],
   "source": [
    "next(splits);"
   ]
  },
  {
   "cell_type": "code",
   "execution_count": null,
   "id": "97e2b960",
   "metadata": {},
   "outputs": [],
   "source": [
    "plt.figure(figsize=(10, 10))\n",
    "plt.imshow(next(splits)[0]);"
   ]
  },
  {
   "cell_type": "code",
   "execution_count": null,
   "id": "255e8e9b",
   "metadata": {},
   "outputs": [],
   "source": [
    "np.array(img).shape"
   ]
  },
  {
   "cell_type": "code",
   "execution_count": null,
   "id": "3e2acdf4",
   "metadata": {},
   "outputs": [],
   "source": [
    "W, H = Image.open(images[5]).size"
   ]
  },
  {
   "cell_type": "code",
   "execution_count": null,
   "id": "4580f808",
   "metadata": {},
   "outputs": [],
   "source": [
    "plt.hist([p.area for p in polygons], bins=20);"
   ]
  },
  {
   "cell_type": "code",
   "execution_count": null,
   "id": "91b3a836",
   "metadata": {},
   "outputs": [],
   "source": [
    "morj, morj_contact = poly2mask(polygons, (H, W))"
   ]
  },
  {
   "cell_type": "code",
   "execution_count": null,
   "id": "e6cd034e",
   "metadata": {},
   "outputs": [],
   "source": [
    "np.unique(morj_contact)"
   ]
  },
  {
   "cell_type": "code",
   "execution_count": null,
   "id": "d9affa65",
   "metadata": {},
   "outputs": [],
   "source": [
    "plt.imshow(morj_contact)"
   ]
  },
  {
   "cell_type": "raw",
   "id": "28a79504",
   "metadata": {},
   "source": [
    "cv2.imwrite(\"morj.png\", morj.astype(np.uint8) * 255)\n",
    "cv2.imwrite(\"morj_contact2.png\", morj_contact.astype(np.uint8) * 255)\n",
    "cv2.imwrite(\"morj_no_contact2.png\", morj_no_contact.astype(np.uint8) * 255)"
   ]
  },
  {
   "cell_type": "code",
   "execution_count": null,
   "id": "4fdbbb1c",
   "metadata": {},
   "outputs": [],
   "source": []
  },
  {
   "cell_type": "code",
   "execution_count": null,
   "id": "d375950a",
   "metadata": {},
   "outputs": [],
   "source": []
  },
  {
   "cell_type": "code",
   "execution_count": null,
   "id": "a2d3aa8e",
   "metadata": {},
   "outputs": [],
   "source": []
  },
  {
   "cell_type": "code",
   "execution_count": null,
   "id": "aa86a103",
   "metadata": {},
   "outputs": [],
   "source": [
    "from train import MorjDataset, get_train_aug\n",
    "from torch.utils.data import Dataset, DataLoader"
   ]
  },
  {
   "cell_type": "code",
   "execution_count": null,
   "id": "f8a5444a",
   "metadata": {},
   "outputs": [],
   "source": [
    "train_dataloader = DataLoader(\n",
    "    MorjDataset(Path(\"/home/zakirov/data/morj_data/\"), get_train_aug(256)),\n",
    "    batch_size=64,\n",
    "    num_workers=12,\n",
    "    drop_last=True,\n",
    "    shuffle=True,\n",
    "    pin_memory=True,\n",
    ")"
   ]
  },
  {
   "cell_type": "code",
   "execution_count": null,
   "id": "202b8674",
   "metadata": {},
   "outputs": [],
   "source": [
    "batch = next(iter(train_dataloader))"
   ]
  },
  {
   "cell_type": "code",
   "execution_count": null,
   "id": "bd40468b",
   "metadata": {},
   "outputs": [],
   "source": [
    "plt.imshow(batch[0][33, 2])"
   ]
  },
  {
   "cell_type": "raw",
   "id": "c91041b1",
   "metadata": {},
   "source": [
    "import torch\n",
    "torch.unique(batch[1][33, 0])"
   ]
  },
  {
   "cell_type": "code",
   "execution_count": null,
   "id": "5498b297",
   "metadata": {},
   "outputs": [],
   "source": [
    "plt.imshow(batch[1][33, 0])"
   ]
  },
  {
   "cell_type": "code",
   "execution_count": null,
   "id": "b287a6c6",
   "metadata": {},
   "outputs": [],
   "source": [
    "batch[0].shape"
   ]
  },
  {
   "cell_type": "code",
   "execution_count": null,
   "id": "491fab0f",
   "metadata": {},
   "outputs": [],
   "source": [
    "batch[1].shape"
   ]
  }
 ],
 "metadata": {
  "kernelspec": {
   "display_name": "Python 3 (ipykernel)",
   "language": "python",
   "name": "python3"
  },
  "language_info": {
   "codemirror_mode": {
    "name": "ipython",
    "version": 3
   },
   "file_extension": ".py",
   "mimetype": "text/x-python",
   "name": "python",
   "nbconvert_exporter": "python",
   "pygments_lexer": "ipython3",
   "version": "3.8.8"
  }
 },
 "nbformat": 4,
 "nbformat_minor": 5
}
